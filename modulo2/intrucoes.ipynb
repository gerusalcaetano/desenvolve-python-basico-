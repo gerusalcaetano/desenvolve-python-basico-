{
 "cells": [
  {
   "cell_type": "markdown",
   "id": "d7aa2b1e-90dc-4951-bb52-e7f6e932a756",
   "metadata": {},
   "source": [
    "Q1\n",
    "Faça um programa que armazene o valor de 20 reais de salário por hora de um trabalhador, e o número de 40 horas trabalhadas na semana. Com essas informações, calcule e imprima:\n",
    "Salário semanal bruto\n",
    "Valor descontado por semana INSS (10% do bruto)\n",
    "Valor descontado por semana pelo sindicato (5% do bruto)\n",
    "Salário semanal líquido (Bruto - Descontos)"
   ]
  },
  {
   "cell_type": "code",
   "execution_count": 4,
   "id": "8c945058-c1bb-457c-81cd-67563a992b34",
   "metadata": {},
   "outputs": [
    {
     "name": "stdout",
     "output_type": "stream",
     "text": [
      "Salário bruto: 800\n",
      "Valor descontado por semana INSS 80.0\n",
      "Valor descontado por semana pelo sindicato 40.0\n",
      "Salário semanal líquido 680.0\n"
     ]
    }
   ],
   "source": [
    "hora_homem=20\n",
    "horas_semana=40\n",
    "salario_bruto= hora_homem*horas_semana\n",
    "inss=salario_bruto*0.10\n",
    "sindicato=salario_bruto*0.05\n",
    "descontos= inss+sindicato\n",
    "salario_liquido= salario_bruto-descontos\n",
    "print(\"Salário bruto:\", salario_bruto)\n",
    "print(\"Valor descontado por semana INSS\", inss)\n",
    "print(\"Valor descontado por semana pelo sindicato\", sindicato)\n",
    "print(\"Salário semanal líquido\", salario_liquido)\n"
   ]
  },
  {
   "cell_type": "markdown",
   "id": "cf4613ee-0807-455a-a229-d767e648890d",
   "metadata": {},
   "source": [
    "Q2\n",
    "Altere o programa anterior para a partir dos valores de horas trabalhadas por semana e salário por hora, calcular em somente duas instruções:\n",
    "Salário semanal bruto\n",
    "Salário semanal líquido com todos os descontos. Para a segunda instrução, realize todos os cálculos aritméticos em uma expressão composta."
   ]
  },
  {
   "cell_type": "code",
   "execution_count": 8,
   "id": "501e9a19-ce18-4c5f-9599-ee968c671d68",
   "metadata": {},
   "outputs": [
    {
     "name": "stdout",
     "output_type": "stream",
     "text": [
      "Salário bruto: 800\n",
      "Salário semanal líquido com todos os descontos 680.0\n"
     ]
    }
   ],
   "source": [
    "print(\"Salário bruto:\", (hora_homem*horas_semana))\n",
    "print(\"Salário semanal líquido com todos os descontos\", (20*40)-(((20*40)*0.1) +((20*40)*0.05)))"
   ]
  },
  {
   "cell_type": "markdown",
   "id": "5e58c451-1dfd-447d-b2c4-65615809a763",
   "metadata": {},
   "source": [
    "Q3\n",
    "Você está desenvolvendo um software de conversão de moeda e precisa calcular o valor equivalente em yuan chinês a partir de uma quantia em real. A taxa de câmbio é de 0.69 BRL (real) para 1 CNY (yuan). Escreva um programa que define em uma variável uma quantia em reais (BRL) e calcula o valor equivalente em yuan (CNY). Imprima o resultado."
   ]
  },
  {
   "cell_type": "code",
   "execution_count": 14,
   "id": "68750390-4a3a-4053-96e3-0f0a9c4f7d8c",
   "metadata": {},
   "outputs": [
    {
     "name": "stdout",
     "output_type": "stream",
     "text": [
      "14.492753623188406\n"
     ]
    }
   ],
   "source": [
    "brl=10\n",
    "yuan=0.69\n",
    "quantia= brl/yuan\n",
    "print(quantia)"
   ]
  },
  {
   "cell_type": "code",
   "execution_count": 15,
   "id": "5fb6a199-4c15-48bd-9053-574c0b9b6a88",
   "metadata": {},
   "outputs": [
    {
     "name": "stdout",
     "output_type": "stream",
     "text": [
      "14.065\n"
     ]
    }
   ],
   "source": [
    "distancia=42.195 \n",
    "tempo=3\n",
    "v_media=distancia/tempo\n",
    "print(v_media)"
   ]
  },
  {
   "cell_type": "code",
   "execution_count": null,
   "id": "3d7f6be4-9e33-45b8-af38-80c2b693e228",
   "metadata": {},
   "outputs": [],
   "source": []
  }
 ],
 "metadata": {
  "kernelspec": {
   "display_name": "Python 3 (ipykernel)",
   "language": "python",
   "name": "python3"
  },
  "language_info": {
   "codemirror_mode": {
    "name": "ipython",
    "version": 3
   },
   "file_extension": ".py",
   "mimetype": "text/x-python",
   "name": "python",
   "nbconvert_exporter": "python",
   "pygments_lexer": "ipython3",
   "version": "3.12.3"
  }
 },
 "nbformat": 4,
 "nbformat_minor": 5
}
